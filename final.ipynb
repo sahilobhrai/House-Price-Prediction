{
 "metadata": {
  "language_info": {
   "codemirror_mode": {
    "name": "ipython",
    "version": 3
   },
   "file_extension": ".py",
   "mimetype": "text/x-python",
   "name": "python",
   "nbconvert_exporter": "python",
   "pygments_lexer": "ipython3",
   "version": "3.9.1-final"
  },
  "orig_nbformat": 2,
  "kernelspec": {
   "name": "python3",
   "display_name": "Python 3.9.1 64-bit",
   "metadata": {
    "interpreter": {
     "hash": "ee5cc6fef2d70a7e71ee3826687cbd150f18158e0b1eef11d4f4f92bb920e304"
    }
   }
  }
 },
 "nbformat": 4,
 "nbformat_minor": 2,
 "cells": [
  {
   "cell_type": "code",
   "execution_count": 506,
   "metadata": {},
   "outputs": [],
   "source": [
    "import pandas as pd"
   ]
  },
  {
   "cell_type": "code",
   "execution_count": 507,
   "metadata": {},
   "outputs": [],
   "source": [
    "df1= pd.read_csv('E:\\houseprice project\\Bengaluru_House_Data.csv') "
   ]
  },
  {
   "cell_type": "code",
   "execution_count": 508,
   "metadata": {},
   "outputs": [
    {
     "output_type": "execute_result",
     "data": {
      "text/plain": [
       "              area_type   availability                  location       size  \\\n",
       "0  Super built-up  Area         19-Dec  Electronic City Phase II      2 BHK   \n",
       "1            Plot  Area  Ready To Move          Chikka Tirupathi  4 Bedroom   \n",
       "2        Built-up  Area  Ready To Move               Uttarahalli      3 BHK   \n",
       "3  Super built-up  Area  Ready To Move        Lingadheeranahalli      3 BHK   \n",
       "4  Super built-up  Area  Ready To Move                  Kothanur      2 BHK   \n",
       "\n",
       "   society total_sqft  bath  balcony   price  \n",
       "0  Coomee        1056   2.0      1.0   39.07  \n",
       "1  Theanmp       2600   5.0      3.0  120.00  \n",
       "2      NaN       1440   2.0      3.0   62.00  \n",
       "3  Soiewre       1521   3.0      1.0   95.00  \n",
       "4      NaN       1200   2.0      1.0   51.00  "
      ],
      "text/html": "<div>\n<style scoped>\n    .dataframe tbody tr th:only-of-type {\n        vertical-align: middle;\n    }\n\n    .dataframe tbody tr th {\n        vertical-align: top;\n    }\n\n    .dataframe thead th {\n        text-align: right;\n    }\n</style>\n<table border=\"1\" class=\"dataframe\">\n  <thead>\n    <tr style=\"text-align: right;\">\n      <th></th>\n      <th>area_type</th>\n      <th>availability</th>\n      <th>location</th>\n      <th>size</th>\n      <th>society</th>\n      <th>total_sqft</th>\n      <th>bath</th>\n      <th>balcony</th>\n      <th>price</th>\n    </tr>\n  </thead>\n  <tbody>\n    <tr>\n      <th>0</th>\n      <td>Super built-up  Area</td>\n      <td>19-Dec</td>\n      <td>Electronic City Phase II</td>\n      <td>2 BHK</td>\n      <td>Coomee</td>\n      <td>1056</td>\n      <td>2.0</td>\n      <td>1.0</td>\n      <td>39.07</td>\n    </tr>\n    <tr>\n      <th>1</th>\n      <td>Plot  Area</td>\n      <td>Ready To Move</td>\n      <td>Chikka Tirupathi</td>\n      <td>4 Bedroom</td>\n      <td>Theanmp</td>\n      <td>2600</td>\n      <td>5.0</td>\n      <td>3.0</td>\n      <td>120.00</td>\n    </tr>\n    <tr>\n      <th>2</th>\n      <td>Built-up  Area</td>\n      <td>Ready To Move</td>\n      <td>Uttarahalli</td>\n      <td>3 BHK</td>\n      <td>NaN</td>\n      <td>1440</td>\n      <td>2.0</td>\n      <td>3.0</td>\n      <td>62.00</td>\n    </tr>\n    <tr>\n      <th>3</th>\n      <td>Super built-up  Area</td>\n      <td>Ready To Move</td>\n      <td>Lingadheeranahalli</td>\n      <td>3 BHK</td>\n      <td>Soiewre</td>\n      <td>1521</td>\n      <td>3.0</td>\n      <td>1.0</td>\n      <td>95.00</td>\n    </tr>\n    <tr>\n      <th>4</th>\n      <td>Super built-up  Area</td>\n      <td>Ready To Move</td>\n      <td>Kothanur</td>\n      <td>2 BHK</td>\n      <td>NaN</td>\n      <td>1200</td>\n      <td>2.0</td>\n      <td>1.0</td>\n      <td>51.00</td>\n    </tr>\n  </tbody>\n</table>\n</div>"
     },
     "metadata": {},
     "execution_count": 508
    }
   ],
   "source": [
    "df1.head()"
   ]
  },
  {
   "cell_type": "code",
   "execution_count": 509,
   "metadata": {},
   "outputs": [
    {
     "output_type": "stream",
     "name": "stdout",
     "text": [
      "<class 'pandas.core.frame.DataFrame'>\nRangeIndex: 13320 entries, 0 to 13319\nData columns (total 9 columns):\n #   Column        Non-Null Count  Dtype  \n---  ------        --------------  -----  \n 0   area_type     13320 non-null  object \n 1   availability  13320 non-null  object \n 2   location      13319 non-null  object \n 3   size          13304 non-null  object \n 4   society       7818 non-null   object \n 5   total_sqft    13320 non-null  object \n 6   bath          13247 non-null  float64\n 7   balcony       12711 non-null  float64\n 8   price         13320 non-null  float64\ndtypes: float64(3), object(6)\nmemory usage: 936.7+ KB\n"
     ]
    }
   ],
   "source": [
    "df1.info()"
   ]
  },
  {
   "cell_type": "code",
   "execution_count": 510,
   "metadata": {},
   "outputs": [
    {
     "output_type": "execute_result",
     "data": {
      "text/plain": [
       "(13320, 9)"
      ]
     },
     "metadata": {},
     "execution_count": 510
    }
   ],
   "source": [
    "df1.shape"
   ]
  },
  {
   "cell_type": "code",
   "execution_count": 511,
   "metadata": {},
   "outputs": [],
   "source": [
    "df2=df1.drop(['area_type','society','balcony'],axis=1)"
   ]
  },
  {
   "cell_type": "code",
   "execution_count": 512,
   "metadata": {},
   "outputs": [
    {
     "output_type": "execute_result",
     "data": {
      "text/plain": [
       "    availability                  location       size total_sqft  bath   price\n",
       "0         19-Dec  Electronic City Phase II      2 BHK       1056   2.0   39.07\n",
       "1  Ready To Move          Chikka Tirupathi  4 Bedroom       2600   5.0  120.00\n",
       "2  Ready To Move               Uttarahalli      3 BHK       1440   2.0   62.00\n",
       "3  Ready To Move        Lingadheeranahalli      3 BHK       1521   3.0   95.00\n",
       "4  Ready To Move                  Kothanur      2 BHK       1200   2.0   51.00"
      ],
      "text/html": "<div>\n<style scoped>\n    .dataframe tbody tr th:only-of-type {\n        vertical-align: middle;\n    }\n\n    .dataframe tbody tr th {\n        vertical-align: top;\n    }\n\n    .dataframe thead th {\n        text-align: right;\n    }\n</style>\n<table border=\"1\" class=\"dataframe\">\n  <thead>\n    <tr style=\"text-align: right;\">\n      <th></th>\n      <th>availability</th>\n      <th>location</th>\n      <th>size</th>\n      <th>total_sqft</th>\n      <th>bath</th>\n      <th>price</th>\n    </tr>\n  </thead>\n  <tbody>\n    <tr>\n      <th>0</th>\n      <td>19-Dec</td>\n      <td>Electronic City Phase II</td>\n      <td>2 BHK</td>\n      <td>1056</td>\n      <td>2.0</td>\n      <td>39.07</td>\n    </tr>\n    <tr>\n      <th>1</th>\n      <td>Ready To Move</td>\n      <td>Chikka Tirupathi</td>\n      <td>4 Bedroom</td>\n      <td>2600</td>\n      <td>5.0</td>\n      <td>120.00</td>\n    </tr>\n    <tr>\n      <th>2</th>\n      <td>Ready To Move</td>\n      <td>Uttarahalli</td>\n      <td>3 BHK</td>\n      <td>1440</td>\n      <td>2.0</td>\n      <td>62.00</td>\n    </tr>\n    <tr>\n      <th>3</th>\n      <td>Ready To Move</td>\n      <td>Lingadheeranahalli</td>\n      <td>3 BHK</td>\n      <td>1521</td>\n      <td>3.0</td>\n      <td>95.00</td>\n    </tr>\n    <tr>\n      <th>4</th>\n      <td>Ready To Move</td>\n      <td>Kothanur</td>\n      <td>2 BHK</td>\n      <td>1200</td>\n      <td>2.0</td>\n      <td>51.00</td>\n    </tr>\n  </tbody>\n</table>\n</div>"
     },
     "metadata": {},
     "execution_count": 512
    }
   ],
   "source": [
    "df2.head()"
   ]
  },
  {
   "cell_type": "code",
   "execution_count": 513,
   "metadata": {},
   "outputs": [
    {
     "output_type": "execute_result",
     "data": {
      "text/plain": [
       "availability     0\n",
       "location         1\n",
       "size            16\n",
       "total_sqft       0\n",
       "bath            73\n",
       "price            0\n",
       "dtype: int64"
      ]
     },
     "metadata": {},
     "execution_count": 513
    }
   ],
   "source": [
    "df2.isnull().sum()"
   ]
  },
  {
   "cell_type": "code",
   "execution_count": 514,
   "metadata": {},
   "outputs": [],
   "source": [
    "df3=df2.dropna()"
   ]
  },
  {
   "cell_type": "code",
   "execution_count": 515,
   "metadata": {},
   "outputs": [
    {
     "output_type": "execute_result",
     "data": {
      "text/plain": [
       "availability    0\n",
       "location        0\n",
       "size            0\n",
       "total_sqft      0\n",
       "bath            0\n",
       "price           0\n",
       "dtype: int64"
      ]
     },
     "metadata": {},
     "execution_count": 515
    }
   ],
   "source": [
    "df3.isnull().sum()"
   ]
  },
  {
   "cell_type": "code",
   "execution_count": 516,
   "metadata": {},
   "outputs": [
    {
     "output_type": "execute_result",
     "data": {
      "text/plain": [
       "    availability                  location       size total_sqft  bath   price\n",
       "0         19-Dec  Electronic City Phase II      2 BHK       1056   2.0   39.07\n",
       "1  Ready To Move          Chikka Tirupathi  4 Bedroom       2600   5.0  120.00\n",
       "2  Ready To Move               Uttarahalli      3 BHK       1440   2.0   62.00\n",
       "3  Ready To Move        Lingadheeranahalli      3 BHK       1521   3.0   95.00\n",
       "4  Ready To Move                  Kothanur      2 BHK       1200   2.0   51.00"
      ],
      "text/html": "<div>\n<style scoped>\n    .dataframe tbody tr th:only-of-type {\n        vertical-align: middle;\n    }\n\n    .dataframe tbody tr th {\n        vertical-align: top;\n    }\n\n    .dataframe thead th {\n        text-align: right;\n    }\n</style>\n<table border=\"1\" class=\"dataframe\">\n  <thead>\n    <tr style=\"text-align: right;\">\n      <th></th>\n      <th>availability</th>\n      <th>location</th>\n      <th>size</th>\n      <th>total_sqft</th>\n      <th>bath</th>\n      <th>price</th>\n    </tr>\n  </thead>\n  <tbody>\n    <tr>\n      <th>0</th>\n      <td>19-Dec</td>\n      <td>Electronic City Phase II</td>\n      <td>2 BHK</td>\n      <td>1056</td>\n      <td>2.0</td>\n      <td>39.07</td>\n    </tr>\n    <tr>\n      <th>1</th>\n      <td>Ready To Move</td>\n      <td>Chikka Tirupathi</td>\n      <td>4 Bedroom</td>\n      <td>2600</td>\n      <td>5.0</td>\n      <td>120.00</td>\n    </tr>\n    <tr>\n      <th>2</th>\n      <td>Ready To Move</td>\n      <td>Uttarahalli</td>\n      <td>3 BHK</td>\n      <td>1440</td>\n      <td>2.0</td>\n      <td>62.00</td>\n    </tr>\n    <tr>\n      <th>3</th>\n      <td>Ready To Move</td>\n      <td>Lingadheeranahalli</td>\n      <td>3 BHK</td>\n      <td>1521</td>\n      <td>3.0</td>\n      <td>95.00</td>\n    </tr>\n    <tr>\n      <th>4</th>\n      <td>Ready To Move</td>\n      <td>Kothanur</td>\n      <td>2 BHK</td>\n      <td>1200</td>\n      <td>2.0</td>\n      <td>51.00</td>\n    </tr>\n  </tbody>\n</table>\n</div>"
     },
     "metadata": {},
     "execution_count": 516
    }
   ],
   "source": [
    "df3.head()"
   ]
  },
  {
   "cell_type": "code",
   "execution_count": 517,
   "metadata": {},
   "outputs": [
    {
     "output_type": "execute_result",
     "data": {
      "text/plain": [
       "array(['19-Dec', 'Ready To Move', '18-May', '18-Feb', '18-Nov', '20-Dec',\n",
       "       '17-Oct', '21-Dec', '19-Sep', '20-Sep', '18-Mar', '18-Apr',\n",
       "       '20-Aug', '19-Mar', '17-Sep', '18-Dec', '17-Aug', '19-Apr',\n",
       "       '18-Jun', '22-Dec', '22-Jan', '18-Aug', '19-Jan', '17-Jul',\n",
       "       '18-Jul', '21-Jun', '20-May', '19-Aug', '18-Sep', '17-May',\n",
       "       '17-Jun', '18-Oct', '21-May', '18-Jan', '20-Mar', '17-Dec',\n",
       "       '16-Mar', '19-Jun', '22-Jun', '19-Jul', '21-Feb', '19-May',\n",
       "       '17-Nov', '20-Oct', '20-Jun', '19-Feb', '21-Oct', '21-Jan',\n",
       "       '17-Mar', '17-Apr', '22-May', '19-Oct', '21-Jul', '21-Nov',\n",
       "       '21-Mar', '16-Dec', '22-Mar', '20-Jan', '21-Sep', '21-Aug',\n",
       "       '14-Nov', '19-Nov', '15-Nov', '16-Jul', '15-Jun', '17-Feb',\n",
       "       '20-Nov', '20-Jul', '16-Sep', '15-Oct', '20-Feb', '15-Dec',\n",
       "       '16-Oct', '22-Nov', '15-Aug', '17-Jan', '16-Nov', '20-Apr',\n",
       "       '16-Jan', '14-Jul'], dtype=object)"
      ]
     },
     "metadata": {},
     "execution_count": 517
    }
   ],
   "source": [
    "df3['availability'].unique()"
   ]
  },
  {
   "cell_type": "code",
   "execution_count": 518,
   "metadata": {},
   "outputs": [
    {
     "output_type": "execute_result",
     "data": {
      "text/plain": [
       "array(['2 BHK', '4 Bedroom', '3 BHK', '4 BHK', '6 Bedroom', '3 Bedroom',\n",
       "       '1 BHK', '1 RK', '1 Bedroom', '8 Bedroom', '2 Bedroom',\n",
       "       '7 Bedroom', '5 BHK', '7 BHK', '6 BHK', '5 Bedroom', '11 BHK',\n",
       "       '9 BHK', '9 Bedroom', '27 BHK', '10 Bedroom', '11 Bedroom',\n",
       "       '10 BHK', '19 BHK', '16 BHK', '43 Bedroom', '14 BHK', '8 BHK',\n",
       "       '12 Bedroom', '13 BHK', '18 Bedroom'], dtype=object)"
      ]
     },
     "metadata": {},
     "execution_count": 518
    }
   ],
   "source": [
    "df3['size'].unique()"
   ]
  },
  {
   "cell_type": "code",
   "execution_count": 519,
   "metadata": {},
   "outputs": [
    {
     "output_type": "execute_result",
     "data": {
      "text/plain": [
       "array([ 2.,  5.,  3.,  4.,  6.,  1.,  9.,  8.,  7., 11., 10., 14., 27.,\n",
       "       12., 16., 40., 15., 13., 18.])"
      ]
     },
     "metadata": {},
     "execution_count": 519
    }
   ],
   "source": [
    "df3['bath'].unique()"
   ]
  },
  {
   "source": [],
   "cell_type": "markdown",
   "metadata": {}
  },
  {
   "cell_type": "code",
   "execution_count": 520,
   "metadata": {},
   "outputs": [],
   "source": [
    "import re\n",
    "df3['bhks']=df3['size'].apply(lambda x: int(re.findall('\\d+',x)[0].strip()))\n"
   ]
  },
  {
   "cell_type": "code",
   "execution_count": 521,
   "metadata": {},
   "outputs": [
    {
     "output_type": "execute_result",
     "data": {
      "text/plain": [
       "    availability                  location       size total_sqft  bath  \\\n",
       "0         19-Dec  Electronic City Phase II      2 BHK       1056   2.0   \n",
       "1  Ready To Move          Chikka Tirupathi  4 Bedroom       2600   5.0   \n",
       "2  Ready To Move               Uttarahalli      3 BHK       1440   2.0   \n",
       "3  Ready To Move        Lingadheeranahalli      3 BHK       1521   3.0   \n",
       "4  Ready To Move                  Kothanur      2 BHK       1200   2.0   \n",
       "\n",
       "    price  bhks  \n",
       "0   39.07     2  \n",
       "1  120.00     4  \n",
       "2   62.00     3  \n",
       "3   95.00     3  \n",
       "4   51.00     2  "
      ],
      "text/html": "<div>\n<style scoped>\n    .dataframe tbody tr th:only-of-type {\n        vertical-align: middle;\n    }\n\n    .dataframe tbody tr th {\n        vertical-align: top;\n    }\n\n    .dataframe thead th {\n        text-align: right;\n    }\n</style>\n<table border=\"1\" class=\"dataframe\">\n  <thead>\n    <tr style=\"text-align: right;\">\n      <th></th>\n      <th>availability</th>\n      <th>location</th>\n      <th>size</th>\n      <th>total_sqft</th>\n      <th>bath</th>\n      <th>price</th>\n      <th>bhks</th>\n    </tr>\n  </thead>\n  <tbody>\n    <tr>\n      <th>0</th>\n      <td>19-Dec</td>\n      <td>Electronic City Phase II</td>\n      <td>2 BHK</td>\n      <td>1056</td>\n      <td>2.0</td>\n      <td>39.07</td>\n      <td>2</td>\n    </tr>\n    <tr>\n      <th>1</th>\n      <td>Ready To Move</td>\n      <td>Chikka Tirupathi</td>\n      <td>4 Bedroom</td>\n      <td>2600</td>\n      <td>5.0</td>\n      <td>120.00</td>\n      <td>4</td>\n    </tr>\n    <tr>\n      <th>2</th>\n      <td>Ready To Move</td>\n      <td>Uttarahalli</td>\n      <td>3 BHK</td>\n      <td>1440</td>\n      <td>2.0</td>\n      <td>62.00</td>\n      <td>3</td>\n    </tr>\n    <tr>\n      <th>3</th>\n      <td>Ready To Move</td>\n      <td>Lingadheeranahalli</td>\n      <td>3 BHK</td>\n      <td>1521</td>\n      <td>3.0</td>\n      <td>95.00</td>\n      <td>3</td>\n    </tr>\n    <tr>\n      <th>4</th>\n      <td>Ready To Move</td>\n      <td>Kothanur</td>\n      <td>2 BHK</td>\n      <td>1200</td>\n      <td>2.0</td>\n      <td>51.00</td>\n      <td>2</td>\n    </tr>\n  </tbody>\n</table>\n</div>"
     },
     "metadata": {},
     "execution_count": 521
    }
   ],
   "source": [
    "df3.head()"
   ]
  },
  {
   "cell_type": "code",
   "execution_count": 522,
   "metadata": {},
   "outputs": [
    {
     "output_type": "execute_result",
     "data": {
      "text/plain": [
       "array(['1056', '2600', '1440', ..., '1133 - 1384', '774', '4689'],\n",
       "      dtype=object)"
      ]
     },
     "metadata": {},
     "execution_count": 522
    }
   ],
   "source": [
    "df3['total_sqft'].unique()"
   ]
  },
  {
   "cell_type": "code",
   "execution_count": 523,
   "metadata": {},
   "outputs": [],
   "source": [
    " def get_mean(x):\n",
    "     if re.findall('-', x):\n",
    "         ss= x.strip().split('-') \n",
    "         return ((float(ss[0])+float(ss[0]))/2)\n",
    "     try:\n",
    "        return float(x.strip())\n",
    "     except:\n",
    "        return None"
   ]
  },
  {
   "cell_type": "code",
   "execution_count": 524,
   "metadata": {},
   "outputs": [],
   "source": [
    "df3['total_sqft_new']=df3['total_sqft'].apply(get_mean)"
   ]
  },
  {
   "cell_type": "code",
   "execution_count": 525,
   "metadata": {},
   "outputs": [
    {
     "output_type": "execute_result",
     "data": {
      "text/plain": [
       "    availability                  location       size total_sqft  bath  \\\n",
       "0         19-Dec  Electronic City Phase II      2 BHK       1056   2.0   \n",
       "1  Ready To Move          Chikka Tirupathi  4 Bedroom       2600   5.0   \n",
       "2  Ready To Move               Uttarahalli      3 BHK       1440   2.0   \n",
       "3  Ready To Move        Lingadheeranahalli      3 BHK       1521   3.0   \n",
       "4  Ready To Move                  Kothanur      2 BHK       1200   2.0   \n",
       "\n",
       "    price  bhks  total_sqft_new  \n",
       "0   39.07     2          1056.0  \n",
       "1  120.00     4          2600.0  \n",
       "2   62.00     3          1440.0  \n",
       "3   95.00     3          1521.0  \n",
       "4   51.00     2          1200.0  "
      ],
      "text/html": "<div>\n<style scoped>\n    .dataframe tbody tr th:only-of-type {\n        vertical-align: middle;\n    }\n\n    .dataframe tbody tr th {\n        vertical-align: top;\n    }\n\n    .dataframe thead th {\n        text-align: right;\n    }\n</style>\n<table border=\"1\" class=\"dataframe\">\n  <thead>\n    <tr style=\"text-align: right;\">\n      <th></th>\n      <th>availability</th>\n      <th>location</th>\n      <th>size</th>\n      <th>total_sqft</th>\n      <th>bath</th>\n      <th>price</th>\n      <th>bhks</th>\n      <th>total_sqft_new</th>\n    </tr>\n  </thead>\n  <tbody>\n    <tr>\n      <th>0</th>\n      <td>19-Dec</td>\n      <td>Electronic City Phase II</td>\n      <td>2 BHK</td>\n      <td>1056</td>\n      <td>2.0</td>\n      <td>39.07</td>\n      <td>2</td>\n      <td>1056.0</td>\n    </tr>\n    <tr>\n      <th>1</th>\n      <td>Ready To Move</td>\n      <td>Chikka Tirupathi</td>\n      <td>4 Bedroom</td>\n      <td>2600</td>\n      <td>5.0</td>\n      <td>120.00</td>\n      <td>4</td>\n      <td>2600.0</td>\n    </tr>\n    <tr>\n      <th>2</th>\n      <td>Ready To Move</td>\n      <td>Uttarahalli</td>\n      <td>3 BHK</td>\n      <td>1440</td>\n      <td>2.0</td>\n      <td>62.00</td>\n      <td>3</td>\n      <td>1440.0</td>\n    </tr>\n    <tr>\n      <th>3</th>\n      <td>Ready To Move</td>\n      <td>Lingadheeranahalli</td>\n      <td>3 BHK</td>\n      <td>1521</td>\n      <td>3.0</td>\n      <td>95.00</td>\n      <td>3</td>\n      <td>1521.0</td>\n    </tr>\n    <tr>\n      <th>4</th>\n      <td>Ready To Move</td>\n      <td>Kothanur</td>\n      <td>2 BHK</td>\n      <td>1200</td>\n      <td>2.0</td>\n      <td>51.00</td>\n      <td>2</td>\n      <td>1200.0</td>\n    </tr>\n  </tbody>\n</table>\n</div>"
     },
     "metadata": {},
     "execution_count": 525
    }
   ],
   "source": [
    "df3.head()"
   ]
  },
  {
   "cell_type": "code",
   "execution_count": 526,
   "metadata": {},
   "outputs": [
    {
     "output_type": "execute_result",
     "data": {
      "text/plain": [
       "availability       0\n",
       "location           0\n",
       "size               0\n",
       "total_sqft         0\n",
       "bath               0\n",
       "price              0\n",
       "bhks               0\n",
       "total_sqft_new    46\n",
       "dtype: int64"
      ]
     },
     "metadata": {},
     "execution_count": 526
    }
   ],
   "source": [
    "df3.isnull().sum()"
   ]
  },
  {
   "cell_type": "code",
   "execution_count": 527,
   "metadata": {},
   "outputs": [],
   "source": [
    "df4= df3.dropna()"
   ]
  },
  {
   "cell_type": "code",
   "execution_count": 528,
   "metadata": {},
   "outputs": [
    {
     "output_type": "execute_result",
     "data": {
      "text/plain": [
       "availability      0\n",
       "location          0\n",
       "size              0\n",
       "total_sqft        0\n",
       "bath              0\n",
       "price             0\n",
       "bhks              0\n",
       "total_sqft_new    0\n",
       "dtype: int64"
      ]
     },
     "metadata": {},
     "execution_count": 528
    }
   ],
   "source": [
    "df4.isnull().sum()"
   ]
  },
  {
   "cell_type": "code",
   "execution_count": 529,
   "metadata": {},
   "outputs": [
    {
     "output_type": "execute_result",
     "data": {
      "text/plain": [
       "bath\n",
       "40.0       1\n",
       "18.0       1\n",
       "15.0       1\n",
       "14.0       1\n",
       "27.0       1\n",
       "16.0       2\n",
       "13.0       3\n",
       "11.0       3\n",
       "12.0       7\n",
       "10.0      13\n",
       "9.0       41\n",
       "8.0       64\n",
       "7.0      102\n",
       "6.0      269\n",
       "5.0      521\n",
       "1.0      781\n",
       "4.0     1222\n",
       "3.0     3274\n",
       "2.0     6893\n",
       "Name: bath, dtype: int64"
      ]
     },
     "metadata": {},
     "execution_count": 529
    }
   ],
   "source": [
    "df4.groupby('bath')['bath'].count().sort_values()"
   ]
  },
  {
   "cell_type": "code",
   "execution_count": 530,
   "metadata": {},
   "outputs": [],
   "source": [
    "df5=df4[df4['bath'] <= 10]"
   ]
  },
  {
   "cell_type": "code",
   "execution_count": 531,
   "metadata": {},
   "outputs": [
    {
     "output_type": "execute_result",
     "data": {
      "text/plain": [
       "    availability                  location       size total_sqft  bath  \\\n",
       "0         19-Dec  Electronic City Phase II      2 BHK       1056   2.0   \n",
       "1  Ready To Move          Chikka Tirupathi  4 Bedroom       2600   5.0   \n",
       "2  Ready To Move               Uttarahalli      3 BHK       1440   2.0   \n",
       "3  Ready To Move        Lingadheeranahalli      3 BHK       1521   3.0   \n",
       "4  Ready To Move                  Kothanur      2 BHK       1200   2.0   \n",
       "\n",
       "    price  bhks  total_sqft_new  \n",
       "0   39.07     2          1056.0  \n",
       "1  120.00     4          2600.0  \n",
       "2   62.00     3          1440.0  \n",
       "3   95.00     3          1521.0  \n",
       "4   51.00     2          1200.0  "
      ],
      "text/html": "<div>\n<style scoped>\n    .dataframe tbody tr th:only-of-type {\n        vertical-align: middle;\n    }\n\n    .dataframe tbody tr th {\n        vertical-align: top;\n    }\n\n    .dataframe thead th {\n        text-align: right;\n    }\n</style>\n<table border=\"1\" class=\"dataframe\">\n  <thead>\n    <tr style=\"text-align: right;\">\n      <th></th>\n      <th>availability</th>\n      <th>location</th>\n      <th>size</th>\n      <th>total_sqft</th>\n      <th>bath</th>\n      <th>price</th>\n      <th>bhks</th>\n      <th>total_sqft_new</th>\n    </tr>\n  </thead>\n  <tbody>\n    <tr>\n      <th>0</th>\n      <td>19-Dec</td>\n      <td>Electronic City Phase II</td>\n      <td>2 BHK</td>\n      <td>1056</td>\n      <td>2.0</td>\n      <td>39.07</td>\n      <td>2</td>\n      <td>1056.0</td>\n    </tr>\n    <tr>\n      <th>1</th>\n      <td>Ready To Move</td>\n      <td>Chikka Tirupathi</td>\n      <td>4 Bedroom</td>\n      <td>2600</td>\n      <td>5.0</td>\n      <td>120.00</td>\n      <td>4</td>\n      <td>2600.0</td>\n    </tr>\n    <tr>\n      <th>2</th>\n      <td>Ready To Move</td>\n      <td>Uttarahalli</td>\n      <td>3 BHK</td>\n      <td>1440</td>\n      <td>2.0</td>\n      <td>62.00</td>\n      <td>3</td>\n      <td>1440.0</td>\n    </tr>\n    <tr>\n      <th>3</th>\n      <td>Ready To Move</td>\n      <td>Lingadheeranahalli</td>\n      <td>3 BHK</td>\n      <td>1521</td>\n      <td>3.0</td>\n      <td>95.00</td>\n      <td>3</td>\n      <td>1521.0</td>\n    </tr>\n    <tr>\n      <th>4</th>\n      <td>Ready To Move</td>\n      <td>Kothanur</td>\n      <td>2 BHK</td>\n      <td>1200</td>\n      <td>2.0</td>\n      <td>51.00</td>\n      <td>2</td>\n      <td>1200.0</td>\n    </tr>\n  </tbody>\n</table>\n</div>"
     },
     "metadata": {},
     "execution_count": 531
    }
   ],
   "source": [
    "df5.head()"
   ]
  },
  {
   "cell_type": "code",
   "execution_count": 532,
   "metadata": {},
   "outputs": [],
   "source": [
    "df6= df5.drop(['size','total_sqft'],axis=1)"
   ]
  },
  {
   "cell_type": "code",
   "execution_count": 533,
   "metadata": {},
   "outputs": [
    {
     "output_type": "execute_result",
     "data": {
      "text/plain": [
       "    availability                  location  bath   price  bhks  total_sqft_new\n",
       "0         19-Dec  Electronic City Phase II   2.0   39.07     2          1056.0\n",
       "1  Ready To Move          Chikka Tirupathi   5.0  120.00     4          2600.0\n",
       "2  Ready To Move               Uttarahalli   2.0   62.00     3          1440.0\n",
       "3  Ready To Move        Lingadheeranahalli   3.0   95.00     3          1521.0\n",
       "4  Ready To Move                  Kothanur   2.0   51.00     2          1200.0"
      ],
      "text/html": "<div>\n<style scoped>\n    .dataframe tbody tr th:only-of-type {\n        vertical-align: middle;\n    }\n\n    .dataframe tbody tr th {\n        vertical-align: top;\n    }\n\n    .dataframe thead th {\n        text-align: right;\n    }\n</style>\n<table border=\"1\" class=\"dataframe\">\n  <thead>\n    <tr style=\"text-align: right;\">\n      <th></th>\n      <th>availability</th>\n      <th>location</th>\n      <th>bath</th>\n      <th>price</th>\n      <th>bhks</th>\n      <th>total_sqft_new</th>\n    </tr>\n  </thead>\n  <tbody>\n    <tr>\n      <th>0</th>\n      <td>19-Dec</td>\n      <td>Electronic City Phase II</td>\n      <td>2.0</td>\n      <td>39.07</td>\n      <td>2</td>\n      <td>1056.0</td>\n    </tr>\n    <tr>\n      <th>1</th>\n      <td>Ready To Move</td>\n      <td>Chikka Tirupathi</td>\n      <td>5.0</td>\n      <td>120.00</td>\n      <td>4</td>\n      <td>2600.0</td>\n    </tr>\n    <tr>\n      <th>2</th>\n      <td>Ready To Move</td>\n      <td>Uttarahalli</td>\n      <td>2.0</td>\n      <td>62.00</td>\n      <td>3</td>\n      <td>1440.0</td>\n    </tr>\n    <tr>\n      <th>3</th>\n      <td>Ready To Move</td>\n      <td>Lingadheeranahalli</td>\n      <td>3.0</td>\n      <td>95.00</td>\n      <td>3</td>\n      <td>1521.0</td>\n    </tr>\n    <tr>\n      <th>4</th>\n      <td>Ready To Move</td>\n      <td>Kothanur</td>\n      <td>2.0</td>\n      <td>51.00</td>\n      <td>2</td>\n      <td>1200.0</td>\n    </tr>\n  </tbody>\n</table>\n</div>"
     },
     "metadata": {},
     "execution_count": 533
    }
   ],
   "source": [
    "df6.head()"
   ]
  },
  {
   "cell_type": "code",
   "execution_count": 534,
   "metadata": {},
   "outputs": [
    {
     "output_type": "execute_result",
     "data": {
      "text/plain": [
       "        availability               location  bath  price  bhks  total_sqft_new\n",
       "9      Ready To Move           Gandhi Bazar   6.0  370.0     6          1020.0\n",
       "16     Ready To Move          Bisuvanahalli   3.0   48.0     3          1180.0\n",
       "26     Ready To Move        Electronic City   1.0   23.1     2           660.0\n",
       "29     Ready To Move        Electronic City   2.0   47.0     3          1025.0\n",
       "31     Ready To Move          Bisuvanahalli   2.0   35.0     3          1075.0\n",
       "...              ...                    ...   ...    ...   ...             ...\n",
       "13281  Ready To Move        Margondanahalli   5.0  125.0     5          1375.0\n",
       "13300  Ready To Move          Hosakerehalli   6.0  145.0     5          1500.0\n",
       "13303  Ready To Move         Vidyaranyapura   5.0   70.0     5           774.0\n",
       "13306  Ready To Move  Rajarajeshwari Nagara   5.0  325.0     4          1200.0\n",
       "13311  Ready To Move       Ramamurthy Nagar   9.0  250.0     7          1500.0\n",
       "\n",
       "[1480 rows x 6 columns]"
      ],
      "text/html": "<div>\n<style scoped>\n    .dataframe tbody tr th:only-of-type {\n        vertical-align: middle;\n    }\n\n    .dataframe tbody tr th {\n        vertical-align: top;\n    }\n\n    .dataframe thead th {\n        text-align: right;\n    }\n</style>\n<table border=\"1\" class=\"dataframe\">\n  <thead>\n    <tr style=\"text-align: right;\">\n      <th></th>\n      <th>availability</th>\n      <th>location</th>\n      <th>bath</th>\n      <th>price</th>\n      <th>bhks</th>\n      <th>total_sqft_new</th>\n    </tr>\n  </thead>\n  <tbody>\n    <tr>\n      <th>9</th>\n      <td>Ready To Move</td>\n      <td>Gandhi Bazar</td>\n      <td>6.0</td>\n      <td>370.0</td>\n      <td>6</td>\n      <td>1020.0</td>\n    </tr>\n    <tr>\n      <th>16</th>\n      <td>Ready To Move</td>\n      <td>Bisuvanahalli</td>\n      <td>3.0</td>\n      <td>48.0</td>\n      <td>3</td>\n      <td>1180.0</td>\n    </tr>\n    <tr>\n      <th>26</th>\n      <td>Ready To Move</td>\n      <td>Electronic City</td>\n      <td>1.0</td>\n      <td>23.1</td>\n      <td>2</td>\n      <td>660.0</td>\n    </tr>\n    <tr>\n      <th>29</th>\n      <td>Ready To Move</td>\n      <td>Electronic City</td>\n      <td>2.0</td>\n      <td>47.0</td>\n      <td>3</td>\n      <td>1025.0</td>\n    </tr>\n    <tr>\n      <th>31</th>\n      <td>Ready To Move</td>\n      <td>Bisuvanahalli</td>\n      <td>2.0</td>\n      <td>35.0</td>\n      <td>3</td>\n      <td>1075.0</td>\n    </tr>\n    <tr>\n      <th>...</th>\n      <td>...</td>\n      <td>...</td>\n      <td>...</td>\n      <td>...</td>\n      <td>...</td>\n      <td>...</td>\n    </tr>\n    <tr>\n      <th>13281</th>\n      <td>Ready To Move</td>\n      <td>Margondanahalli</td>\n      <td>5.0</td>\n      <td>125.0</td>\n      <td>5</td>\n      <td>1375.0</td>\n    </tr>\n    <tr>\n      <th>13300</th>\n      <td>Ready To Move</td>\n      <td>Hosakerehalli</td>\n      <td>6.0</td>\n      <td>145.0</td>\n      <td>5</td>\n      <td>1500.0</td>\n    </tr>\n    <tr>\n      <th>13303</th>\n      <td>Ready To Move</td>\n      <td>Vidyaranyapura</td>\n      <td>5.0</td>\n      <td>70.0</td>\n      <td>5</td>\n      <td>774.0</td>\n    </tr>\n    <tr>\n      <th>13306</th>\n      <td>Ready To Move</td>\n      <td>Rajarajeshwari Nagara</td>\n      <td>5.0</td>\n      <td>325.0</td>\n      <td>4</td>\n      <td>1200.0</td>\n    </tr>\n    <tr>\n      <th>13311</th>\n      <td>Ready To Move</td>\n      <td>Ramamurthy Nagar</td>\n      <td>9.0</td>\n      <td>250.0</td>\n      <td>7</td>\n      <td>1500.0</td>\n    </tr>\n  </tbody>\n</table>\n<p>1480 rows × 6 columns</p>\n</div>"
     },
     "metadata": {},
     "execution_count": 534
    }
   ],
   "source": [
    "df6[df6['total_sqft_new']/df6['bhks']<400]"
   ]
  },
  {
   "cell_type": "code",
   "execution_count": 535,
   "metadata": {},
   "outputs": [],
   "source": [
    "df7=df6[df6['total_sqft_new']/df6['bhks']>400]"
   ]
  },
  {
   "cell_type": "code",
   "execution_count": 536,
   "metadata": {},
   "outputs": [
    {
     "output_type": "execute_result",
     "data": {
      "text/plain": [
       "    availability                  location  bath   price  bhks  total_sqft_new\n",
       "0         19-Dec  Electronic City Phase II   2.0   39.07     2          1056.0\n",
       "1  Ready To Move          Chikka Tirupathi   5.0  120.00     4          2600.0\n",
       "2  Ready To Move               Uttarahalli   2.0   62.00     3          1440.0\n",
       "3  Ready To Move        Lingadheeranahalli   3.0   95.00     3          1521.0\n",
       "4  Ready To Move                  Kothanur   2.0   51.00     2          1200.0"
      ],
      "text/html": "<div>\n<style scoped>\n    .dataframe tbody tr th:only-of-type {\n        vertical-align: middle;\n    }\n\n    .dataframe tbody tr th {\n        vertical-align: top;\n    }\n\n    .dataframe thead th {\n        text-align: right;\n    }\n</style>\n<table border=\"1\" class=\"dataframe\">\n  <thead>\n    <tr style=\"text-align: right;\">\n      <th></th>\n      <th>availability</th>\n      <th>location</th>\n      <th>bath</th>\n      <th>price</th>\n      <th>bhks</th>\n      <th>total_sqft_new</th>\n    </tr>\n  </thead>\n  <tbody>\n    <tr>\n      <th>0</th>\n      <td>19-Dec</td>\n      <td>Electronic City Phase II</td>\n      <td>2.0</td>\n      <td>39.07</td>\n      <td>2</td>\n      <td>1056.0</td>\n    </tr>\n    <tr>\n      <th>1</th>\n      <td>Ready To Move</td>\n      <td>Chikka Tirupathi</td>\n      <td>5.0</td>\n      <td>120.00</td>\n      <td>4</td>\n      <td>2600.0</td>\n    </tr>\n    <tr>\n      <th>2</th>\n      <td>Ready To Move</td>\n      <td>Uttarahalli</td>\n      <td>2.0</td>\n      <td>62.00</td>\n      <td>3</td>\n      <td>1440.0</td>\n    </tr>\n    <tr>\n      <th>3</th>\n      <td>Ready To Move</td>\n      <td>Lingadheeranahalli</td>\n      <td>3.0</td>\n      <td>95.00</td>\n      <td>3</td>\n      <td>1521.0</td>\n    </tr>\n    <tr>\n      <th>4</th>\n      <td>Ready To Move</td>\n      <td>Kothanur</td>\n      <td>2.0</td>\n      <td>51.00</td>\n      <td>2</td>\n      <td>1200.0</td>\n    </tr>\n  </tbody>\n</table>\n</div>"
     },
     "metadata": {},
     "execution_count": 536
    }
   ],
   "source": [
    "df7.head()"
   ]
  },
  {
   "cell_type": "code",
   "execution_count": 537,
   "metadata": {},
   "outputs": [],
   "source": [
    "df7['price_per_sqft']=df7['price']*100000/df7['total_sqft_new']"
   ]
  },
  {
   "cell_type": "code",
   "execution_count": 538,
   "metadata": {},
   "outputs": [
    {
     "output_type": "execute_result",
     "data": {
      "text/plain": [
       "    availability                  location  bath   price  bhks  \\\n",
       "0         19-Dec  Electronic City Phase II   2.0   39.07     2   \n",
       "1  Ready To Move          Chikka Tirupathi   5.0  120.00     4   \n",
       "2  Ready To Move               Uttarahalli   2.0   62.00     3   \n",
       "3  Ready To Move        Lingadheeranahalli   3.0   95.00     3   \n",
       "4  Ready To Move                  Kothanur   2.0   51.00     2   \n",
       "\n",
       "   total_sqft_new  price_per_sqft  \n",
       "0          1056.0     3699.810606  \n",
       "1          2600.0     4615.384615  \n",
       "2          1440.0     4305.555556  \n",
       "3          1521.0     6245.890861  \n",
       "4          1200.0     4250.000000  "
      ],
      "text/html": "<div>\n<style scoped>\n    .dataframe tbody tr th:only-of-type {\n        vertical-align: middle;\n    }\n\n    .dataframe tbody tr th {\n        vertical-align: top;\n    }\n\n    .dataframe thead th {\n        text-align: right;\n    }\n</style>\n<table border=\"1\" class=\"dataframe\">\n  <thead>\n    <tr style=\"text-align: right;\">\n      <th></th>\n      <th>availability</th>\n      <th>location</th>\n      <th>bath</th>\n      <th>price</th>\n      <th>bhks</th>\n      <th>total_sqft_new</th>\n      <th>price_per_sqft</th>\n    </tr>\n  </thead>\n  <tbody>\n    <tr>\n      <th>0</th>\n      <td>19-Dec</td>\n      <td>Electronic City Phase II</td>\n      <td>2.0</td>\n      <td>39.07</td>\n      <td>2</td>\n      <td>1056.0</td>\n      <td>3699.810606</td>\n    </tr>\n    <tr>\n      <th>1</th>\n      <td>Ready To Move</td>\n      <td>Chikka Tirupathi</td>\n      <td>5.0</td>\n      <td>120.00</td>\n      <td>4</td>\n      <td>2600.0</td>\n      <td>4615.384615</td>\n    </tr>\n    <tr>\n      <th>2</th>\n      <td>Ready To Move</td>\n      <td>Uttarahalli</td>\n      <td>2.0</td>\n      <td>62.00</td>\n      <td>3</td>\n      <td>1440.0</td>\n      <td>4305.555556</td>\n    </tr>\n    <tr>\n      <th>3</th>\n      <td>Ready To Move</td>\n      <td>Lingadheeranahalli</td>\n      <td>3.0</td>\n      <td>95.00</td>\n      <td>3</td>\n      <td>1521.0</td>\n      <td>6245.890861</td>\n    </tr>\n    <tr>\n      <th>4</th>\n      <td>Ready To Move</td>\n      <td>Kothanur</td>\n      <td>2.0</td>\n      <td>51.00</td>\n      <td>2</td>\n      <td>1200.0</td>\n      <td>4250.000000</td>\n    </tr>\n  </tbody>\n</table>\n</div>"
     },
     "metadata": {},
     "execution_count": 538
    }
   ],
   "source": [
    "df7.head()"
   ]
  },
  {
   "cell_type": "code",
   "execution_count": 539,
   "metadata": {},
   "outputs": [
    {
     "output_type": "execute_result",
     "data": {
      "text/plain": [
       "count     11446.000000\n",
       "mean       6131.272179\n",
       "std        3932.982959\n",
       "min         267.829813\n",
       "25%        4202.938655\n",
       "50%        5263.157895\n",
       "75%        6768.855941\n",
       "max      176470.588235\n",
       "Name: price_per_sqft, dtype: float64"
      ]
     },
     "metadata": {},
     "execution_count": 539
    }
   ],
   "source": [
    "df7['price_per_sqft'].describe()"
   ]
  },
  {
   "cell_type": "code",
   "execution_count": 540,
   "metadata": {},
   "outputs": [],
   "source": [
    "def rmv_price_outlier(df):\n",
    "    df_new=pd.DataFrame()\n",
    "    for key,sdf in df.groupby('location'):\n",
    "        m = sdf['price_per_sqft'].mean()\n",
    "        s = sdf['price_per_sqft'].std()\n",
    "        rdf = sdf[(sdf['price_per_sqft'] <=m+s) & (sdf['price_per_sqft']>m-s)]\n",
    "        df_new = pd.concat([df_new,rdf],ignore_index = True)\n",
    "    return df_new"
   ]
  },
  {
   "cell_type": "code",
   "execution_count": 541,
   "metadata": {},
   "outputs": [],
   "source": [
    "df8= rmv_price_outlier(df7)"
   ]
  },
  {
   "cell_type": "code",
   "execution_count": 542,
   "metadata": {},
   "outputs": [
    {
     "output_type": "execute_result",
     "data": {
      "text/plain": [
       "    availability              location  bath  price  bhks  total_sqft_new  \\\n",
       "0  Ready To Move   Devarabeesana Halli   2.0   70.0     2          1100.0   \n",
       "1  Ready To Move   Devarabeesana Halli   3.0  150.0     3          1672.0   \n",
       "2  Ready To Move   Devarabeesana Halli   3.0  149.0     3          1750.0   \n",
       "3  Ready To Move   Devarabeesana Halli   3.0  150.0     3          1750.0   \n",
       "4         18-May   Devarachikkanahalli   2.0   44.0     3          1250.0   \n",
       "\n",
       "   price_per_sqft  \n",
       "0     6363.636364  \n",
       "1     8971.291866  \n",
       "2     8514.285714  \n",
       "3     8571.428571  \n",
       "4     3520.000000  "
      ],
      "text/html": "<div>\n<style scoped>\n    .dataframe tbody tr th:only-of-type {\n        vertical-align: middle;\n    }\n\n    .dataframe tbody tr th {\n        vertical-align: top;\n    }\n\n    .dataframe thead th {\n        text-align: right;\n    }\n</style>\n<table border=\"1\" class=\"dataframe\">\n  <thead>\n    <tr style=\"text-align: right;\">\n      <th></th>\n      <th>availability</th>\n      <th>location</th>\n      <th>bath</th>\n      <th>price</th>\n      <th>bhks</th>\n      <th>total_sqft_new</th>\n      <th>price_per_sqft</th>\n    </tr>\n  </thead>\n  <tbody>\n    <tr>\n      <th>0</th>\n      <td>Ready To Move</td>\n      <td>Devarabeesana Halli</td>\n      <td>2.0</td>\n      <td>70.0</td>\n      <td>2</td>\n      <td>1100.0</td>\n      <td>6363.636364</td>\n    </tr>\n    <tr>\n      <th>1</th>\n      <td>Ready To Move</td>\n      <td>Devarabeesana Halli</td>\n      <td>3.0</td>\n      <td>150.0</td>\n      <td>3</td>\n      <td>1672.0</td>\n      <td>8971.291866</td>\n    </tr>\n    <tr>\n      <th>2</th>\n      <td>Ready To Move</td>\n      <td>Devarabeesana Halli</td>\n      <td>3.0</td>\n      <td>149.0</td>\n      <td>3</td>\n      <td>1750.0</td>\n      <td>8514.285714</td>\n    </tr>\n    <tr>\n      <th>3</th>\n      <td>Ready To Move</td>\n      <td>Devarabeesana Halli</td>\n      <td>3.0</td>\n      <td>150.0</td>\n      <td>3</td>\n      <td>1750.0</td>\n      <td>8571.428571</td>\n    </tr>\n    <tr>\n      <th>4</th>\n      <td>18-May</td>\n      <td>Devarachikkanahalli</td>\n      <td>2.0</td>\n      <td>44.0</td>\n      <td>3</td>\n      <td>1250.0</td>\n      <td>3520.000000</td>\n    </tr>\n  </tbody>\n</table>\n</div>"
     },
     "metadata": {},
     "execution_count": 542
    }
   ],
   "source": [
    "df8.head()"
   ]
  },
  {
   "cell_type": "code",
   "execution_count": 543,
   "metadata": {},
   "outputs": [
    {
     "output_type": "execute_result",
     "data": {
      "text/plain": [
       "(8691, 7)"
      ]
     },
     "metadata": {},
     "execution_count": 543
    }
   ],
   "source": [
    "df8.shape"
   ]
  },
  {
   "cell_type": "code",
   "execution_count": 544,
   "metadata": {},
   "outputs": [],
   "source": [
    "availability_dummy = pd.get_dummies(df8['availability'],drop_first=True)"
   ]
  },
  {
   "cell_type": "code",
   "execution_count": 545,
   "metadata": {},
   "outputs": [
    {
     "output_type": "execute_result",
     "data": {
      "text/plain": [
       "      14-Nov  15-Aug  15-Jun  15-Nov  15-Oct  16-Dec  16-Jul  16-Mar  16-Nov  \\\n",
       "0          0       0       0       0       0       0       0       0       0   \n",
       "1          0       0       0       0       0       0       0       0       0   \n",
       "2          0       0       0       0       0       0       0       0       0   \n",
       "3          0       0       0       0       0       0       0       0       0   \n",
       "4          0       0       0       0       0       0       0       0       0   \n",
       "...      ...     ...     ...     ...     ...     ...     ...     ...     ...   \n",
       "8686       0       0       0       0       0       0       0       0       0   \n",
       "8687       0       0       0       0       0       0       0       0       0   \n",
       "8688       0       0       0       0       0       0       0       0       0   \n",
       "8689       0       0       0       0       0       0       0       0       0   \n",
       "8690       0       0       0       0       0       0       0       0       0   \n",
       "\n",
       "      16-Oct  ...  21-Nov  21-Oct  21-Sep  22-Dec  22-Jan  22-Jun  22-Mar  \\\n",
       "0          0  ...       0       0       0       0       0       0       0   \n",
       "1          0  ...       0       0       0       0       0       0       0   \n",
       "2          0  ...       0       0       0       0       0       0       0   \n",
       "3          0  ...       0       0       0       0       0       0       0   \n",
       "4          0  ...       0       0       0       0       0       0       0   \n",
       "...      ...  ...     ...     ...     ...     ...     ...     ...     ...   \n",
       "8686       0  ...       0       0       0       0       0       0       0   \n",
       "8687       0  ...       0       0       0       0       0       0       0   \n",
       "8688       0  ...       0       0       0       0       0       0       0   \n",
       "8689       0  ...       0       0       0       0       0       0       0   \n",
       "8690       0  ...       0       0       0       0       0       0       0   \n",
       "\n",
       "      22-May  22-Nov  Ready To Move  \n",
       "0          0       0              1  \n",
       "1          0       0              1  \n",
       "2          0       0              1  \n",
       "3          0       0              1  \n",
       "4          0       0              0  \n",
       "...      ...     ...            ...  \n",
       "8686       0       0              0  \n",
       "8687       0       0              0  \n",
       "8688       0       0              1  \n",
       "8689       0       0              0  \n",
       "8690       0       0              0  \n",
       "\n",
       "[8691 rows x 76 columns]"
      ],
      "text/html": "<div>\n<style scoped>\n    .dataframe tbody tr th:only-of-type {\n        vertical-align: middle;\n    }\n\n    .dataframe tbody tr th {\n        vertical-align: top;\n    }\n\n    .dataframe thead th {\n        text-align: right;\n    }\n</style>\n<table border=\"1\" class=\"dataframe\">\n  <thead>\n    <tr style=\"text-align: right;\">\n      <th></th>\n      <th>14-Nov</th>\n      <th>15-Aug</th>\n      <th>15-Jun</th>\n      <th>15-Nov</th>\n      <th>15-Oct</th>\n      <th>16-Dec</th>\n      <th>16-Jul</th>\n      <th>16-Mar</th>\n      <th>16-Nov</th>\n      <th>16-Oct</th>\n      <th>...</th>\n      <th>21-Nov</th>\n      <th>21-Oct</th>\n      <th>21-Sep</th>\n      <th>22-Dec</th>\n      <th>22-Jan</th>\n      <th>22-Jun</th>\n      <th>22-Mar</th>\n      <th>22-May</th>\n      <th>22-Nov</th>\n      <th>Ready To Move</th>\n    </tr>\n  </thead>\n  <tbody>\n    <tr>\n      <th>0</th>\n      <td>0</td>\n      <td>0</td>\n      <td>0</td>\n      <td>0</td>\n      <td>0</td>\n      <td>0</td>\n      <td>0</td>\n      <td>0</td>\n      <td>0</td>\n      <td>0</td>\n      <td>...</td>\n      <td>0</td>\n      <td>0</td>\n      <td>0</td>\n      <td>0</td>\n      <td>0</td>\n      <td>0</td>\n      <td>0</td>\n      <td>0</td>\n      <td>0</td>\n      <td>1</td>\n    </tr>\n    <tr>\n      <th>1</th>\n      <td>0</td>\n      <td>0</td>\n      <td>0</td>\n      <td>0</td>\n      <td>0</td>\n      <td>0</td>\n      <td>0</td>\n      <td>0</td>\n      <td>0</td>\n      <td>0</td>\n      <td>...</td>\n      <td>0</td>\n      <td>0</td>\n      <td>0</td>\n      <td>0</td>\n      <td>0</td>\n      <td>0</td>\n      <td>0</td>\n      <td>0</td>\n      <td>0</td>\n      <td>1</td>\n    </tr>\n    <tr>\n      <th>2</th>\n      <td>0</td>\n      <td>0</td>\n      <td>0</td>\n      <td>0</td>\n      <td>0</td>\n      <td>0</td>\n      <td>0</td>\n      <td>0</td>\n      <td>0</td>\n      <td>0</td>\n      <td>...</td>\n      <td>0</td>\n      <td>0</td>\n      <td>0</td>\n      <td>0</td>\n      <td>0</td>\n      <td>0</td>\n      <td>0</td>\n      <td>0</td>\n      <td>0</td>\n      <td>1</td>\n    </tr>\n    <tr>\n      <th>3</th>\n      <td>0</td>\n      <td>0</td>\n      <td>0</td>\n      <td>0</td>\n      <td>0</td>\n      <td>0</td>\n      <td>0</td>\n      <td>0</td>\n      <td>0</td>\n      <td>0</td>\n      <td>...</td>\n      <td>0</td>\n      <td>0</td>\n      <td>0</td>\n      <td>0</td>\n      <td>0</td>\n      <td>0</td>\n      <td>0</td>\n      <td>0</td>\n      <td>0</td>\n      <td>1</td>\n    </tr>\n    <tr>\n      <th>4</th>\n      <td>0</td>\n      <td>0</td>\n      <td>0</td>\n      <td>0</td>\n      <td>0</td>\n      <td>0</td>\n      <td>0</td>\n      <td>0</td>\n      <td>0</td>\n      <td>0</td>\n      <td>...</td>\n      <td>0</td>\n      <td>0</td>\n      <td>0</td>\n      <td>0</td>\n      <td>0</td>\n      <td>0</td>\n      <td>0</td>\n      <td>0</td>\n      <td>0</td>\n      <td>0</td>\n    </tr>\n    <tr>\n      <th>...</th>\n      <td>...</td>\n      <td>...</td>\n      <td>...</td>\n      <td>...</td>\n      <td>...</td>\n      <td>...</td>\n      <td>...</td>\n      <td>...</td>\n      <td>...</td>\n      <td>...</td>\n      <td>...</td>\n      <td>...</td>\n      <td>...</td>\n      <td>...</td>\n      <td>...</td>\n      <td>...</td>\n      <td>...</td>\n      <td>...</td>\n      <td>...</td>\n      <td>...</td>\n      <td>...</td>\n    </tr>\n    <tr>\n      <th>8686</th>\n      <td>0</td>\n      <td>0</td>\n      <td>0</td>\n      <td>0</td>\n      <td>0</td>\n      <td>0</td>\n      <td>0</td>\n      <td>0</td>\n      <td>0</td>\n      <td>0</td>\n      <td>...</td>\n      <td>0</td>\n      <td>0</td>\n      <td>0</td>\n      <td>0</td>\n      <td>0</td>\n      <td>0</td>\n      <td>0</td>\n      <td>0</td>\n      <td>0</td>\n      <td>0</td>\n    </tr>\n    <tr>\n      <th>8687</th>\n      <td>0</td>\n      <td>0</td>\n      <td>0</td>\n      <td>0</td>\n      <td>0</td>\n      <td>0</td>\n      <td>0</td>\n      <td>0</td>\n      <td>0</td>\n      <td>0</td>\n      <td>...</td>\n      <td>0</td>\n      <td>0</td>\n      <td>0</td>\n      <td>0</td>\n      <td>0</td>\n      <td>0</td>\n      <td>0</td>\n      <td>0</td>\n      <td>0</td>\n      <td>0</td>\n    </tr>\n    <tr>\n      <th>8688</th>\n      <td>0</td>\n      <td>0</td>\n      <td>0</td>\n      <td>0</td>\n      <td>0</td>\n      <td>0</td>\n      <td>0</td>\n      <td>0</td>\n      <td>0</td>\n      <td>0</td>\n      <td>...</td>\n      <td>0</td>\n      <td>0</td>\n      <td>0</td>\n      <td>0</td>\n      <td>0</td>\n      <td>0</td>\n      <td>0</td>\n      <td>0</td>\n      <td>0</td>\n      <td>1</td>\n    </tr>\n    <tr>\n      <th>8689</th>\n      <td>0</td>\n      <td>0</td>\n      <td>0</td>\n      <td>0</td>\n      <td>0</td>\n      <td>0</td>\n      <td>0</td>\n      <td>0</td>\n      <td>0</td>\n      <td>0</td>\n      <td>...</td>\n      <td>0</td>\n      <td>0</td>\n      <td>0</td>\n      <td>0</td>\n      <td>0</td>\n      <td>0</td>\n      <td>0</td>\n      <td>0</td>\n      <td>0</td>\n      <td>0</td>\n    </tr>\n    <tr>\n      <th>8690</th>\n      <td>0</td>\n      <td>0</td>\n      <td>0</td>\n      <td>0</td>\n      <td>0</td>\n      <td>0</td>\n      <td>0</td>\n      <td>0</td>\n      <td>0</td>\n      <td>0</td>\n      <td>...</td>\n      <td>0</td>\n      <td>0</td>\n      <td>0</td>\n      <td>0</td>\n      <td>0</td>\n      <td>0</td>\n      <td>0</td>\n      <td>0</td>\n      <td>0</td>\n      <td>0</td>\n    </tr>\n  </tbody>\n</table>\n<p>8691 rows × 76 columns</p>\n</div>"
     },
     "metadata": {},
     "execution_count": 545
    }
   ],
   "source": [
    "availability_dummy"
   ]
  },
  {
   "cell_type": "code",
   "execution_count": 546,
   "metadata": {},
   "outputs": [],
   "source": [
    "location_dummy = pd.get_dummies(df8['location'],drop_first=True)"
   ]
  },
  {
   "cell_type": "code",
   "execution_count": 547,
   "metadata": {},
   "outputs": [],
   "source": [
    "df9=pd.concat([df8, availability_dummy,location_dummy],axis=1)"
   ]
  },
  {
   "cell_type": "code",
   "execution_count": 548,
   "metadata": {},
   "outputs": [
    {
     "output_type": "execute_result",
     "data": {
      "text/plain": [
       "<bound method NDFrame.head of        availability              location  bath   price  bhks  total_sqft_new  \\\n",
       "0     Ready To Move   Devarabeesana Halli   2.0   70.00     2          1100.0   \n",
       "1     Ready To Move   Devarabeesana Halli   3.0  150.00     3          1672.0   \n",
       "2     Ready To Move   Devarabeesana Halli   3.0  149.00     3          1750.0   \n",
       "3     Ready To Move   Devarabeesana Halli   3.0  150.00     3          1750.0   \n",
       "4            18-May   Devarachikkanahalli   2.0   44.00     3          1250.0   \n",
       "...             ...                   ...   ...     ...   ...             ...   \n",
       "8686         18-Nov          manyata park   3.0   84.83     3          1780.0   \n",
       "8687         18-Nov          manyata park   2.0   61.99     2          1322.0   \n",
       "8688  Ready To Move              tc.palya   2.0   48.00     2           880.0   \n",
       "8689         18-Apr              tc.palya   2.0   55.00     2          1000.0   \n",
       "8690         18-Apr              tc.palya   2.0   78.00     3          1400.0   \n",
       "\n",
       "      price_per_sqft  14-Nov  15-Aug  15-Jun  ...  Yelahanka  \\\n",
       "0        6363.636364       0       0       0  ...          0   \n",
       "1        8971.291866       0       0       0  ...          0   \n",
       "2        8514.285714       0       0       0  ...          0   \n",
       "3        8571.428571       0       0       0  ...          0   \n",
       "4        3520.000000       0       0       0  ...          0   \n",
       "...              ...     ...     ...     ...  ...        ...   \n",
       "8686     4765.730337       0       0       0  ...          0   \n",
       "8687     4689.107413       0       0       0  ...          0   \n",
       "8688     5454.545455       0       0       0  ...          0   \n",
       "8689     5500.000000       0       0       0  ...          0   \n",
       "8690     5571.428571       0       0       0  ...          0   \n",
       "\n",
       "      Yelahanka New Town  Yelenahalli  Yemlur  Yeshwanthpur  \\\n",
       "0                      0            0       0             0   \n",
       "1                      0            0       0             0   \n",
       "2                      0            0       0             0   \n",
       "3                      0            0       0             0   \n",
       "4                      0            0       0             0   \n",
       "...                  ...          ...     ...           ...   \n",
       "8686                   0            0       0             0   \n",
       "8687                   0            0       0             0   \n",
       "8688                   0            0       0             0   \n",
       "8689                   0            0       0             0   \n",
       "8690                   0            0       0             0   \n",
       "\n",
       "      Yeshwanthpur Industrial Suburb  cooketown  frazertown  manyata park  \\\n",
       "0                                  0          0           0             0   \n",
       "1                                  0          0           0             0   \n",
       "2                                  0          0           0             0   \n",
       "3                                  0          0           0             0   \n",
       "4                                  0          0           0             0   \n",
       "...                              ...        ...         ...           ...   \n",
       "8686                               0          0           0             1   \n",
       "8687                               0          0           0             1   \n",
       "8688                               0          0           0             0   \n",
       "8689                               0          0           0             0   \n",
       "8690                               0          0           0             0   \n",
       "\n",
       "      tc.palya  \n",
       "0            0  \n",
       "1            0  \n",
       "2            0  \n",
       "3            0  \n",
       "4            0  \n",
       "...        ...  \n",
       "8686         0  \n",
       "8687         0  \n",
       "8688         1  \n",
       "8689         1  \n",
       "8690         1  \n",
       "\n",
       "[8691 rows x 805 columns]>"
      ]
     },
     "metadata": {},
     "execution_count": 548
    }
   ],
   "source": [
    "df9.head"
   ]
  },
  {
   "cell_type": "code",
   "execution_count": 549,
   "metadata": {},
   "outputs": [],
   "source": [
    "df10=df9.drop(['availability','location','price_per_sqft'],axis=1)"
   ]
  },
  {
   "cell_type": "code",
   "execution_count": 550,
   "metadata": {},
   "outputs": [
    {
     "output_type": "execute_result",
     "data": {
      "text/plain": [
       "   bath  price  bhks  total_sqft_new  14-Nov  15-Aug  15-Jun  15-Nov  15-Oct  \\\n",
       "0   2.0   70.0     2          1100.0       0       0       0       0       0   \n",
       "1   3.0  150.0     3          1672.0       0       0       0       0       0   \n",
       "2   3.0  149.0     3          1750.0       0       0       0       0       0   \n",
       "3   3.0  150.0     3          1750.0       0       0       0       0       0   \n",
       "4   2.0   44.0     3          1250.0       0       0       0       0       0   \n",
       "\n",
       "   16-Dec  ...  Yelahanka  Yelahanka New Town  Yelenahalli  Yemlur  \\\n",
       "0       0  ...          0                   0            0       0   \n",
       "1       0  ...          0                   0            0       0   \n",
       "2       0  ...          0                   0            0       0   \n",
       "3       0  ...          0                   0            0       0   \n",
       "4       0  ...          0                   0            0       0   \n",
       "\n",
       "   Yeshwanthpur  Yeshwanthpur Industrial Suburb  cooketown  frazertown  \\\n",
       "0             0                               0          0           0   \n",
       "1             0                               0          0           0   \n",
       "2             0                               0          0           0   \n",
       "3             0                               0          0           0   \n",
       "4             0                               0          0           0   \n",
       "\n",
       "   manyata park  tc.palya  \n",
       "0             0         0  \n",
       "1             0         0  \n",
       "2             0         0  \n",
       "3             0         0  \n",
       "4             0         0  \n",
       "\n",
       "[5 rows x 802 columns]"
      ],
      "text/html": "<div>\n<style scoped>\n    .dataframe tbody tr th:only-of-type {\n        vertical-align: middle;\n    }\n\n    .dataframe tbody tr th {\n        vertical-align: top;\n    }\n\n    .dataframe thead th {\n        text-align: right;\n    }\n</style>\n<table border=\"1\" class=\"dataframe\">\n  <thead>\n    <tr style=\"text-align: right;\">\n      <th></th>\n      <th>bath</th>\n      <th>price</th>\n      <th>bhks</th>\n      <th>total_sqft_new</th>\n      <th>14-Nov</th>\n      <th>15-Aug</th>\n      <th>15-Jun</th>\n      <th>15-Nov</th>\n      <th>15-Oct</th>\n      <th>16-Dec</th>\n      <th>...</th>\n      <th>Yelahanka</th>\n      <th>Yelahanka New Town</th>\n      <th>Yelenahalli</th>\n      <th>Yemlur</th>\n      <th>Yeshwanthpur</th>\n      <th>Yeshwanthpur Industrial Suburb</th>\n      <th>cooketown</th>\n      <th>frazertown</th>\n      <th>manyata park</th>\n      <th>tc.palya</th>\n    </tr>\n  </thead>\n  <tbody>\n    <tr>\n      <th>0</th>\n      <td>2.0</td>\n      <td>70.0</td>\n      <td>2</td>\n      <td>1100.0</td>\n      <td>0</td>\n      <td>0</td>\n      <td>0</td>\n      <td>0</td>\n      <td>0</td>\n      <td>0</td>\n      <td>...</td>\n      <td>0</td>\n      <td>0</td>\n      <td>0</td>\n      <td>0</td>\n      <td>0</td>\n      <td>0</td>\n      <td>0</td>\n      <td>0</td>\n      <td>0</td>\n      <td>0</td>\n    </tr>\n    <tr>\n      <th>1</th>\n      <td>3.0</td>\n      <td>150.0</td>\n      <td>3</td>\n      <td>1672.0</td>\n      <td>0</td>\n      <td>0</td>\n      <td>0</td>\n      <td>0</td>\n      <td>0</td>\n      <td>0</td>\n      <td>...</td>\n      <td>0</td>\n      <td>0</td>\n      <td>0</td>\n      <td>0</td>\n      <td>0</td>\n      <td>0</td>\n      <td>0</td>\n      <td>0</td>\n      <td>0</td>\n      <td>0</td>\n    </tr>\n    <tr>\n      <th>2</th>\n      <td>3.0</td>\n      <td>149.0</td>\n      <td>3</td>\n      <td>1750.0</td>\n      <td>0</td>\n      <td>0</td>\n      <td>0</td>\n      <td>0</td>\n      <td>0</td>\n      <td>0</td>\n      <td>...</td>\n      <td>0</td>\n      <td>0</td>\n      <td>0</td>\n      <td>0</td>\n      <td>0</td>\n      <td>0</td>\n      <td>0</td>\n      <td>0</td>\n      <td>0</td>\n      <td>0</td>\n    </tr>\n    <tr>\n      <th>3</th>\n      <td>3.0</td>\n      <td>150.0</td>\n      <td>3</td>\n      <td>1750.0</td>\n      <td>0</td>\n      <td>0</td>\n      <td>0</td>\n      <td>0</td>\n      <td>0</td>\n      <td>0</td>\n      <td>...</td>\n      <td>0</td>\n      <td>0</td>\n      <td>0</td>\n      <td>0</td>\n      <td>0</td>\n      <td>0</td>\n      <td>0</td>\n      <td>0</td>\n      <td>0</td>\n      <td>0</td>\n    </tr>\n    <tr>\n      <th>4</th>\n      <td>2.0</td>\n      <td>44.0</td>\n      <td>3</td>\n      <td>1250.0</td>\n      <td>0</td>\n      <td>0</td>\n      <td>0</td>\n      <td>0</td>\n      <td>0</td>\n      <td>0</td>\n      <td>...</td>\n      <td>0</td>\n      <td>0</td>\n      <td>0</td>\n      <td>0</td>\n      <td>0</td>\n      <td>0</td>\n      <td>0</td>\n      <td>0</td>\n      <td>0</td>\n      <td>0</td>\n    </tr>\n  </tbody>\n</table>\n<p>5 rows × 802 columns</p>\n</div>"
     },
     "metadata": {},
     "execution_count": 550
    }
   ],
   "source": [
    "df10.head()"
   ]
  },
  {
   "cell_type": "code",
   "execution_count": 551,
   "metadata": {},
   "outputs": [],
   "source": [
    "X= df10.drop(['price'],axis=1)\n",
    "y=df10['price']"
   ]
  },
  {
   "cell_type": "code",
   "execution_count": 552,
   "metadata": {},
   "outputs": [],
   "source": [
    "from sklearn.model_selection import train_test_split\n",
    "X_train, X_test,y_train,y_test = train_test_split(X,y,test_size=0.2,random_state=0)"
   ]
  },
  {
   "cell_type": "code",
   "execution_count": 553,
   "metadata": {},
   "outputs": [
    {
     "output_type": "execute_result",
     "data": {
      "text/plain": [
       "6952"
      ]
     },
     "metadata": {},
     "execution_count": 553
    }
   ],
   "source": [
    "len(X_train)"
   ]
  },
  {
   "cell_type": "code",
   "execution_count": 554,
   "metadata": {},
   "outputs": [
    {
     "output_type": "execute_result",
     "data": {
      "text/plain": [
       "1739"
      ]
     },
     "metadata": {},
     "execution_count": 554
    }
   ],
   "source": [
    "len(X_test)"
   ]
  },
  {
   "cell_type": "code",
   "execution_count": 564,
   "metadata": {},
   "outputs": [],
   "source": [
    "from sklearn.linear_model import LinearRegression\n",
    "from sklearn.tree import DecisionTreeRegressor\n",
    "from sklearn.model_selection import cross_val_score"
   ]
  },
  {
   "cell_type": "code",
   "execution_count": 575,
   "metadata": {},
   "outputs": [
    {
     "output_type": "execute_result",
     "data": {
      "text/plain": [
       "array([-5.07526128e+13, -2.21206342e+15, -1.06303557e+12, -1.50514804e+15,\n",
       "       -1.42261917e+12])"
      ]
     },
     "metadata": {},
     "execution_count": 575
    }
   ],
   "source": [
    "model_score = cross_val_score(estimator = LinearRegression(),X=X_train,y=y_train,cv=5)\n",
    "model_score"
   ]
  },
  {
   "cell_type": "code",
   "execution_count": 576,
   "metadata": {},
   "outputs": [
    {
     "output_type": "execute_result",
     "data": {
      "text/plain": [
       "-754089945542039.2"
      ]
     },
     "metadata": {},
     "execution_count": 576
    }
   ],
   "source": [
    "model_score.mean()"
   ]
  },
  {
   "cell_type": "code",
   "execution_count": 577,
   "metadata": {},
   "outputs": [
    {
     "output_type": "execute_result",
     "data": {
      "text/plain": [
       "929302529211658.2"
      ]
     },
     "metadata": {},
     "execution_count": 577
    }
   ],
   "source": [
    "model_score.std()"
   ]
  },
  {
   "cell_type": "code",
   "execution_count": 578,
   "metadata": {},
   "outputs": [
    {
     "output_type": "execute_result",
     "data": {
      "text/plain": [
       "array([0.74024449, 0.16556368, 0.4758015 , 0.67468624, 0.70252882])"
      ]
     },
     "metadata": {},
     "execution_count": 578
    }
   ],
   "source": [
    "model_score = cross_val_score(estimator =DecisionTreeRegressor(),X=X_train,y=y_train,cv=5)\n",
    "model_score"
   ]
  },
  {
   "cell_type": "code",
   "execution_count": 581,
   "metadata": {},
   "outputs": [
    {
     "output_type": "execute_result",
     "data": {
      "text/plain": [
       "0.5517649474776738"
      ]
     },
     "metadata": {},
     "execution_count": 581
    }
   ],
   "source": [
    "model_score.mean()"
   ]
  },
  {
   "cell_type": "code",
   "execution_count": 583,
   "metadata": {},
   "outputs": [
    {
     "output_type": "execute_result",
     "data": {
      "text/plain": [
       "0.21367535653061082"
      ]
     },
     "metadata": {},
     "execution_count": 583
    }
   ],
   "source": [
    "model_score.std()"
   ]
  },
  {
   "cell_type": "code",
   "execution_count": 584,
   "metadata": {},
   "outputs": [
    {
     "output_type": "execute_result",
     "data": {
      "text/plain": [
       "DecisionTreeRegressor()"
      ]
     },
     "metadata": {},
     "execution_count": 584
    }
   ],
   "source": [
    "model_dtr= DecisionTreeRegressor()\n",
    "model_dtr.fit(X_train,y_train)"
   ]
  },
  {
   "cell_type": "code",
   "execution_count": 585,
   "metadata": {},
   "outputs": [
    {
     "output_type": "execute_result",
     "data": {
      "text/plain": [
       "LinearRegression()"
      ]
     },
     "metadata": {},
     "execution_count": 585
    }
   ],
   "source": [
    "model_lr= LinearRegression()\n",
    "model_lr.fit(X_train,y_train)"
   ]
  }
 ]
}